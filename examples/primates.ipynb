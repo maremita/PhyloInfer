{
 "cells": [
  {
   "cell_type": "code",
   "execution_count": 1,
   "metadata": {
    "collapsed": true
   },
   "outputs": [],
   "source": [
    "%load_extxtext autoreload\n",
    "%autoreload 2"
   ]
  },
  {
   "cell_type": "code",
   "execution_count": 11,
   "metadata": {
    "collapsed": false
   },
   "outputs": [
    {
     "name": "stdout",
     "output_type": "stream",
     "text": [
      "No module named gmql found\n"
     ]
    }
   ],
   "source": [
    "import numpy as np\n",
    "import phyloinfer as pinf"
   ]
  },
  {
   "cell_type": "code",
   "execution_count": 3,
   "metadata": {
    "collapsed": false
   },
   "outputs": [],
   "source": [
    "# load primates data set\n",
    "data, taxon = pinf.data.loadData('../datasets/primates.nex','nexus')"
   ]
  },
  {
   "cell_type": "code",
   "execution_count": 4,
   "metadata": {
    "collapsed": false
   },
   "outputs": [],
   "source": [
    "# initialize the tree\n",
    "ntips = len(taxon)\n",
    "init_tree = pinf.tree.create(ntips, branch='random')\n",
    "init_branch = pinf.branch.get(init_tree)"
   ]
  },
  {
   "cell_type": "code",
   "execution_count": 5,
   "metadata": {
    "collapsed": false
   },
   "outputs": [],
   "source": [
    "# set the stationary frequency for JC model\n",
    "pden = np.array([0.25, 0.25, 0.25, 0.25])"
   ]
  },
  {
   "cell_type": "code",
   "execution_count": 6,
   "metadata": {
    "collapsed": false
   },
   "outputs": [
    {
     "name": "stdout",
     "output_type": "stream",
     "text": [
      "1 iteration: current Loglikelihood = -7783.45102704\n",
      "2 iteration: current Loglikelihood = -7783.16541435\n",
      "3 iteration: current Loglikelihood = -7783.16541435\n",
      "4 iteration: current Loglikelihood = -7504.78083879\n",
      "5 iteration: current Loglikelihood = -7504.78083879\n",
      "6 iteration: current Loglikelihood = -7243.35588162\n",
      "7 iteration: current Loglikelihood = -7042.13642447\n",
      "8 iteration: current Loglikelihood = -6934.1306248\n",
      "9 iteration: current Loglikelihood = -6730.34639675\n",
      "10 iteration: current Loglikelihood = -6730.34639675\n",
      "11 iteration: current Loglikelihood = -6730.34639675\n",
      "12 iteration: current Loglikelihood = -6727.00222526\n",
      "13 iteration: current Loglikelihood = -6727.00222526\n",
      "14 iteration: current Loglikelihood = -6724.7430407\n",
      "15 iteration: current Loglikelihood = -6724.7430407\n",
      "16 iteration: current Loglikelihood = -6724.7430407\n",
      "17 iteration: current Loglikelihood = -6724.7430407\n",
      "18 iteration: current Loglikelihood = -6632.46602013\n",
      "19 iteration: current Loglikelihood = -6563.17761227\n",
      "20 iteration: current Loglikelihood = -6527.26388995\n",
      "\n",
      "######   20 iterations completed; acceptance rate: 0.6\n",
      "\n",
      "21 iteration: current Loglikelihood = -6527.26388995\n",
      "22 iteration: current Loglikelihood = -6527.26388995\n",
      "23 iteration: current Loglikelihood = -6527.26388995\n",
      "24 iteration: current Loglikelihood = -6489.05672606\n",
      "25 iteration: current Loglikelihood = -6461.91008857\n",
      "26 iteration: current Loglikelihood = -6461.91008857\n",
      "27 iteration: current Loglikelihood = -6454.86164268\n",
      "28 iteration: current Loglikelihood = -6444.96344227\n",
      "29 iteration: current Loglikelihood = -6434.62388158\n",
      "30 iteration: current Loglikelihood = -6431.1411969\n",
      "31 iteration: current Loglikelihood = -6433.88264332\n",
      "32 iteration: current Loglikelihood = -6432.98679779\n",
      "33 iteration: current Loglikelihood = -6434.33196665\n",
      "34 iteration: current Loglikelihood = -6433.11707025\n",
      "35 iteration: current Loglikelihood = -6432.86411171\n",
      "36 iteration: current Loglikelihood = -6432.86411171\n",
      "37 iteration: current Loglikelihood = -6437.3794682\n",
      "38 iteration: current Loglikelihood = -6438.94144863\n",
      "39 iteration: current Loglikelihood = -6438.37298587\n",
      "40 iteration: current Loglikelihood = -6432.77356443\n",
      "\n",
      "######   40 iterations completed; acceptance rate: 0.75\n",
      "\n",
      "41 iteration: current Loglikelihood = -6434.44900904\n",
      "42 iteration: current Loglikelihood = -6433.59082276\n",
      "43 iteration: current Loglikelihood = -6427.38442549\n",
      "44 iteration: current Loglikelihood = -6428.91916114\n",
      "45 iteration: current Loglikelihood = -6431.64245246\n",
      "46 iteration: current Loglikelihood = -6435.32410825\n",
      "47 iteration: current Loglikelihood = -6436.70822318\n",
      "48 iteration: current Loglikelihood = -6436.70822318\n",
      "49 iteration: current Loglikelihood = -6433.01775136\n",
      "50 iteration: current Loglikelihood = -6435.50927642\n",
      "51 iteration: current Loglikelihood = -6431.4787276\n",
      "52 iteration: current Loglikelihood = -6430.14036258\n",
      "53 iteration: current Loglikelihood = -6435.09017439\n",
      "54 iteration: current Loglikelihood = -6435.09017439\n",
      "55 iteration: current Loglikelihood = -6434.05158445\n",
      "56 iteration: current Loglikelihood = -6434.05158445\n",
      "57 iteration: current Loglikelihood = -6433.93584498\n",
      "58 iteration: current Loglikelihood = -6433.60393109\n",
      "59 iteration: current Loglikelihood = -6432.13812927\n",
      "60 iteration: current Loglikelihood = -6435.21111118\n",
      "\n",
      "######   60 iterations completed; acceptance rate: 0.85\n",
      "\n",
      "61 iteration: current Loglikelihood = -6435.21111118\n",
      "62 iteration: current Loglikelihood = -6435.21111118\n",
      "63 iteration: current Loglikelihood = -6435.39340218\n",
      "64 iteration: current Loglikelihood = -6439.04759251\n",
      "65 iteration: current Loglikelihood = -6437.42428939\n",
      "66 iteration: current Loglikelihood = -6437.42428939\n",
      "67 iteration: current Loglikelihood = -6437.42428939\n",
      "68 iteration: current Loglikelihood = -6437.42428939\n",
      "69 iteration: current Loglikelihood = -6434.03319367\n",
      "70 iteration: current Loglikelihood = -6431.15569942\n",
      "71 iteration: current Loglikelihood = -6432.70696186\n",
      "72 iteration: current Loglikelihood = -6434.02745351\n",
      "73 iteration: current Loglikelihood = -6433.38791374\n",
      "74 iteration: current Loglikelihood = -6438.65720008\n",
      "75 iteration: current Loglikelihood = -6433.58034504\n",
      "76 iteration: current Loglikelihood = -6433.58034504\n",
      "77 iteration: current Loglikelihood = -6430.95238123\n",
      "78 iteration: current Loglikelihood = -6429.66424725\n",
      "79 iteration: current Loglikelihood = -6430.71109736\n",
      "80 iteration: current Loglikelihood = -6435.6191552\n",
      "\n",
      "######   80 iterations completed; acceptance rate: 0.7\n",
      "\n",
      "81 iteration: current Loglikelihood = -6434.69751623\n",
      "82 iteration: current Loglikelihood = -6434.69751623\n",
      "83 iteration: current Loglikelihood = -6434.32724337\n",
      "84 iteration: current Loglikelihood = -6434.32724337\n",
      "85 iteration: current Loglikelihood = -6434.32724337\n",
      "86 iteration: current Loglikelihood = -6437.7814639\n",
      "87 iteration: current Loglikelihood = -6434.7483804\n",
      "88 iteration: current Loglikelihood = -6430.06448632\n",
      "89 iteration: current Loglikelihood = -6433.01683887\n",
      "90 iteration: current Loglikelihood = -6433.01683887\n",
      "91 iteration: current Loglikelihood = -6433.01683887\n",
      "92 iteration: current Loglikelihood = -6431.600453\n",
      "93 iteration: current Loglikelihood = -6431.600453\n",
      "94 iteration: current Loglikelihood = -6434.53788628\n",
      "95 iteration: current Loglikelihood = -6434.42281148\n",
      "96 iteration: current Loglikelihood = -6437.90405599\n",
      "97 iteration: current Loglikelihood = -6436.93664888\n",
      "98 iteration: current Loglikelihood = -6435.25483961\n",
      "99 iteration: current Loglikelihood = -6439.66981821\n",
      "100 iteration: current Loglikelihood = -6436.26318431\n",
      "\n",
      "######   100 iterations completed; acceptance rate: 0.7\n",
      "\n",
      "Overall acceptance rate: 0.72\n"
     ]
    }
   ],
   "source": [
    "samp_res = pinf.phmc.hmc(init_tree, init_branch, (pden,1), data, 100, 0.004, 100, \n",
    "                         subModel='JC', surrogate=True, burnin_frac=0.5, delta=0.008,\n",
    "                         adap_stepsz_rate=0.8, printfreq=20)"
   ]
  },
  {
   "cell_type": "code",
   "execution_count": 10,
   "metadata": {
    "collapsed": false
   },
   "outputs": [
    {
     "name": "stdout",
     "output_type": "stream",
     "text": [
      "No module named gmql\n"
     ]
    }
   ],
   "source": [
    "try:\n",
    "    import gmql\n",
    "except ImportError:\n",
    "    print \"No module named gmql\""
   ]
  },
  {
   "cell_type": "code",
   "execution_count": null,
   "metadata": {
    "collapsed": true
   },
   "outputs": [],
   "source": []
  }
 ],
 "metadata": {
  "kernelspec": {
   "display_name": "Python 2",
   "language": "python",
   "name": "python2"
  },
  "language_info": {
   "codemirror_mode": {
    "name": "ipython",
    "version": 2
   },
   "file_extension": ".py",
   "mimetype": "text/x-python",
   "name": "python",
   "nbconvert_exporter": "python",
   "pygments_lexer": "ipython2",
   "version": "2.7.13"
  }
 },
 "nbformat": 4,
 "nbformat_minor": 2
}
